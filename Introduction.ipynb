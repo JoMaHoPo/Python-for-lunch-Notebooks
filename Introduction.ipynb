{
 "cells": [
  {
   "cell_type": "markdown",
   "metadata": {},
   "source": [
    "# Introduction to Python for lunch"
   ]
  },
  {
   "cell_type": "markdown",
   "metadata": {},
   "source": [
    "## Aim\n",
    "We want to create a space where researchers at IMAU can exchange their expertise on Python & open science best practices.\n",
    "\n",
    "Every two weeks we will have seminar-style meetings at IMAU (room 607) where someone presents a Python package or a workflow, for example, using Jupyter notebooks.\n",
    "Following that we encourage discussions and peer-to-peer help with specific problems."
   ]
  },
  {
   "cell_type": "markdown",
   "metadata": {},
   "source": [
    "## How to participate\n",
    "\n",
    "### git\n",
    "We created a GitHub page with a private repository that will host the notebooks presented in the seminars.\n",
    "All participants are encouraged to create a GitHub account and contribute."
   ]
  },
  {
   "cell_type": "markdown",
   "metadata": {},
   "source": [
    "### jupyter\n",
    "Jupyter notebooks are a convenient way of sharing executable code and its output together with explanations in a single file.\n",
    "Therefore, we want to use them for our Python for lunch presentations."
   ]
  },
  {
   "cell_type": "markdown",
   "metadata": {},
   "source": [
    "### conda\n",
    "Virtual environments are separate Python environments, including (specific versions of) packages, that can be created for individual projects\n",
    "It is good practice to create virtual environments both \n",
    "- to avoid problems with the existing Python installation when updating/installing new packages and \n",
    "- to facilitate reproducibility.\n",
    "Conda is one package manager (pip being the other popular one) that lets you create and manage virtual environments.\n",
    "To create a virtual environment:",
    "1. install Miniconda",
    "2. type 'conda create --name myenv' where myenv is the environment name",
    "   to install specific versions of python and packages simply append them to the above command, e.g.:",
    "   'conda create --name myenv python=3.7 scipy=0.15.0'",
    "3. activate an environment by typing 'source activate myenv'",
    "4. you can install any package in the environment with 'conda install (package-names)'",
    "to obtain information on all the environments type 'conda info --envs'"
   ]
  },
  {
   "cell_type": "markdown",
   "metadata": {},
   "source": [
    "## Ideas: what do you want from this space?\n",
    "\n",
    "- Python packages\n",
    "- workflows & best practices\n",
    "- programming paradigms\n",
    "- use cases"
   ]
  }
 ],
 "metadata": {
  "kernelspec": {
   "display_name": "Python 3",
   "language": "python",
   "name": "python3"
  },
  "language_info": {
   "codemirror_mode": {
    "name": "ipython",
    "version": 3
   },
   "file_extension": ".py",
   "mimetype": "text/x-python",
   "name": "python",
   "nbconvert_exporter": "python",
   "pygments_lexer": "ipython3",
   "version": "3.6.6"
  }
 },
 "nbformat": 4,
 "nbformat_minor": 2
}
